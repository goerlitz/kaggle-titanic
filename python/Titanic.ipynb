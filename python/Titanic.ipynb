{
 "cells": [
  {
   "cell_type": "markdown",
   "metadata": {},
   "source": [
    "# Kaggle Titanic\n",
    "\n",
    "[Titanic dataset from Kaggle](https://www.kaggle.com/c/titanic)"
   ]
  },
  {
   "cell_type": "raw",
   "metadata": {},
   "source": [
    "VARIABLE DESCRIPTIONS:\n",
    "survival        Survival\n",
    "                (0 = No; 1 = Yes)\n",
    "pclass          Passenger Class\n",
    "                (1 = 1st; 2 = 2nd; 3 = 3rd)\n",
    "name            Name\n",
    "sex             Sex\n",
    "age             Age\n",
    "sibsp           Number of Siblings/Spouses Aboard\n",
    "parch           Number of Parents/Children Aboard\n",
    "ticket          Ticket Number\n",
    "fare            Passenger Fare\n",
    "cabin           Cabin\n",
    "embarked        Port of Embarkation\n",
    "                (C = Cherbourg; Q = Queenstown; S = Southampton)\n",
    "\n",
    "SPECIAL NOTES:\n",
    "Pclass is a proxy for socio-economic status (SES)\n",
    " 1st ~ Upper; 2nd ~ Middle; 3rd ~ Lower\n",
    "\n",
    "Age is in Years; Fractional if Age less than One (1)\n",
    " If the Age is Estimated, it is in the form xx.5\n",
    "\n",
    "With respect to the family relation variables (i.e. sibsp and parch)\n",
    "some relations were ignored.  The following are the definitions used\n",
    "for sibsp and parch.\n",
    "\n",
    "Sibling:  Brother, Sister, Stepbrother, or Stepsister of Passenger Aboard Titanic\n",
    "Spouse:   Husband or Wife of Passenger Aboard Titanic (Mistresses and Fiances Ignored)\n",
    "Parent:   Mother or Father of Passenger Aboard Titanic\n",
    "Child:    Son, Daughter, Stepson, or Stepdaughter of Passenger Aboard Titanic\n",
    "\n",
    "Other family relatives excluded from this study include cousins,\n",
    "nephews/nieces, aunts/uncles, and in-laws.  Some children travelled\n",
    "only with a nanny, therefore parch=0 for them.  As well, some\n",
    "travelled with very close friends or neighbors in a village, however,\n",
    "the definitions do not support such relations."
   ]
  },
  {
   "cell_type": "code",
   "execution_count": 218,
   "metadata": {
    "collapsed": true
   },
   "outputs": [],
   "source": [
    "import os\n",
    "import numpy as np\n",
    "import pandas as pd\n",
    "import seaborn as sns\n",
    "import matplotlib\n",
    "import matplotlib.pyplot as plt\n",
    "from sklearn import preprocessing\n",
    "from sklearn.ensemble import RandomForestClassifier\n",
    "\n",
    "from pylab import rcParams\n",
    "rcParams['figure.figsize'] = 5, 10\n",
    "\n",
    "# use prettier ggplot style\n",
    "matplotlib.style.use('ggplot')\n",
    "\n",
    "% matplotlib inline"
   ]
  },
  {
   "cell_type": "code",
   "execution_count": 219,
   "metadata": {
    "collapsed": false,
    "scrolled": false
   },
   "outputs": [],
   "source": [
    "#print(os.getcwd() + \"\\n\")\n",
    "\n",
    "# load data\n",
    "train = pd.read_csv(\"../data/train.csv\")\n",
    "test = pd.read_csv(\"../data/test.csv\")"
   ]
  },
  {
   "cell_type": "markdown",
   "metadata": {},
   "source": [
    "## Descriptive Statistics"
   ]
  },
  {
   "cell_type": "code",
   "execution_count": 220,
   "metadata": {
    "collapsed": false
   },
   "outputs": [
    {
     "name": "stdout",
     "output_type": "stream",
     "text": [
      "891 observations, 12 dimensions\n",
      "                type count UNIQUE   NA\n",
      "PassengerId    int64   891    891    0\n",
      "Survived       int64   891      2    0\n",
      "Pclass         int64   891      3    0\n",
      "Name          object   891    891    0\n",
      "Sex           object   891      2    0\n",
      "Age          float64   714     89  177\n",
      "SibSp          int64   891      7    0\n",
      "Parch          int64   891      7    0\n",
      "Ticket        object   891    681    0\n",
      "Fare         float64   891    248    0\n",
      "Cabin         object   204    148  687\n",
      "Embarked      object   889      4    2\n"
     ]
    }
   ],
   "source": [
    "uniq = pd.Series([len(pd.unique(train[x].values.ravel())) for x in train.columns.values], train.columns)\n",
    "print len(train.index), \"observations,\", len(train.columns), \"dimensions\\n\", \\\n",
    "      pd.DataFrame([train.dtypes, train.count(), uniq, train.isnull().sum()], index=['type', 'count', 'UNIQUE', 'NA']).transpose()"
   ]
  },
  {
   "cell_type": "code",
   "execution_count": 221,
   "metadata": {
    "collapsed": false
   },
   "outputs": [
    {
     "name": "stdout",
     "output_type": "stream",
     "text": [
      "         count unique                        top freq\n",
      "Name       891    891  Graham, Mr. George Edward    1\n",
      "Sex        891      2                       male  577\n",
      "Ticket     891    681                   CA. 2343    7\n",
      "Cabin      204    147                C23 C25 C27    4\n",
      "Embarked   889      3                          S  644 \n",
      "\n",
      "             count        mean         std  min    25%  50%    75%  max\n",
      "PassengerId    891  446.000000  257.353842    1  223.5  446  668.5  891\n",
      "Survived       891    0.383838    0.486592    0    0.0    0    1.0    1\n",
      "Pclass         891    2.308642    0.836071    1    2.0    3    3.0    3\n",
      "SibSp          891    0.523008    1.102743    0    0.0    0    1.0    8\n",
      "Parch          891    0.381594    0.806057    0    0.0    0    0.0    6 \n",
      "\n",
      "      count       mean        std   min      25%      50%  75%       max\n",
      "Age     714  29.699118  14.526497  0.42  20.1250  28.0000   38   80.0000\n",
      "Fare    891  32.204208  49.693429  0.00   7.9104  14.4542   31  512.3292\n"
     ]
    }
   ],
   "source": [
    "print train.select_dtypes(['object']).describe().transpose(), '\\n'\n",
    "print train.select_dtypes(['int64']).describe().transpose(), '\\n'\n",
    "print train.select_dtypes(['float64']).describe().transpose()"
   ]
  },
  {
   "cell_type": "code",
   "execution_count": 222,
   "metadata": {
    "collapsed": false
   },
   "outputs": [],
   "source": [
    "# print counts per category\n",
    "#for col in ['Survived', 'Pclass', 'Sex', 'SibSp', 'Parch', 'Embarked']:\n",
    "#    print pd.DataFrame(train[col].value_counts(dropna=False)), '\\n' # automatically sorts by count (desc)"
   ]
  },
  {
   "cell_type": "code",
   "execution_count": 223,
   "metadata": {
    "collapsed": false
   },
   "outputs": [
    {
     "data": {
      "text/html": [
       "<div>\n",
       "<table border=\"1\" class=\"dataframe\">\n",
       "  <thead>\n",
       "    <tr style=\"text-align: right;\">\n",
       "      <th></th>\n",
       "      <th>PassengerId</th>\n",
       "      <th>Survived</th>\n",
       "      <th>Age</th>\n",
       "      <th>SibSp</th>\n",
       "      <th>Parch</th>\n",
       "      <th>Fare</th>\n",
       "    </tr>\n",
       "    <tr>\n",
       "      <th>Pclass</th>\n",
       "      <th></th>\n",
       "      <th></th>\n",
       "      <th></th>\n",
       "      <th></th>\n",
       "      <th></th>\n",
       "      <th></th>\n",
       "    </tr>\n",
       "  </thead>\n",
       "  <tbody>\n",
       "    <tr>\n",
       "      <th>1</th>\n",
       "      <td>461.597222</td>\n",
       "      <td>0.629630</td>\n",
       "      <td>38.233441</td>\n",
       "      <td>0.416667</td>\n",
       "      <td>0.356481</td>\n",
       "      <td>84.154687</td>\n",
       "    </tr>\n",
       "    <tr>\n",
       "      <th>2</th>\n",
       "      <td>445.956522</td>\n",
       "      <td>0.472826</td>\n",
       "      <td>29.877630</td>\n",
       "      <td>0.402174</td>\n",
       "      <td>0.380435</td>\n",
       "      <td>20.662183</td>\n",
       "    </tr>\n",
       "    <tr>\n",
       "      <th>3</th>\n",
       "      <td>439.154786</td>\n",
       "      <td>0.242363</td>\n",
       "      <td>25.140620</td>\n",
       "      <td>0.615071</td>\n",
       "      <td>0.393075</td>\n",
       "      <td>13.675550</td>\n",
       "    </tr>\n",
       "  </tbody>\n",
       "</table>\n",
       "</div>"
      ],
      "text/plain": [
       "        PassengerId  Survived        Age     SibSp     Parch       Fare\n",
       "Pclass                                                                 \n",
       "1        461.597222  0.629630  38.233441  0.416667  0.356481  84.154687\n",
       "2        445.956522  0.472826  29.877630  0.402174  0.380435  20.662183\n",
       "3        439.154786  0.242363  25.140620  0.615071  0.393075  13.675550"
      ]
     },
     "execution_count": 223,
     "metadata": {},
     "output_type": "execute_result"
    }
   ],
   "source": [
    "# descriptive statistics\n",
    "train.groupby('Pclass').mean()\n"
   ]
  },
  {
   "cell_type": "code",
   "execution_count": 224,
   "metadata": {
    "collapsed": true
   },
   "outputs": [],
   "source": [
    "# clean data (fill missing Embark and Age values)\n",
    "train.Embarked.fillna('S', inplace=True) # assume 'S'\n",
    "meanAge = train.Age.mean()\n",
    "train.Age = train.Age.fillna(meanAge)\n"
   ]
  },
  {
   "cell_type": "code",
   "execution_count": 225,
   "metadata": {
    "collapsed": true
   },
   "outputs": [],
   "source": [
    "# convert to categories (requires pandas 0.15+)\n",
    "for col in ['Survived', 'Pclass', 'Sex', 'Embarked']:\n",
    "    train[col] = train[col].astype('category')\n"
   ]
  },
  {
   "cell_type": "markdown",
   "metadata": {},
   "source": [
    "# Feature Correlation"
   ]
  },
  {
   "cell_type": "code",
   "execution_count": 226,
   "metadata": {
    "collapsed": false
   },
   "outputs": [
    {
     "data": {
      "image/png": "[encoded data removed]",
      "text/plain": [
       "<matplotlib.figure.Figure at 0x7f08ea0d4950>"
      ]
     },
     "metadata": {},
     "output_type": "display_data"
    }
   ],
   "source": [
    "# does not work on category or object\n",
    "corr = train.corr()\n",
    "sns.heatmap(corr, square=True, annot=True, linewidths='1', cmap=\"RdBu\")\n",
    "pass"
   ]
  },
  {
   "cell_type": "code",
   "execution_count": 227,
   "metadata": {
    "collapsed": false
   },
   "outputs": [
    {
     "data": {
      "image/png": "[encoded data removed]",
      "text/plain": [
       "<matplotlib.figure.Figure at 0x7f08ea469490>"
      ]
     },
     "metadata": {},
     "output_type": "display_data"
    }
   ],
   "source": [
    "matplotlib.style.use('ggplot')\n",
    "\n",
    "# visualization with matplotlib\n",
    "plt.scatter(y=train.Fare, x=train.Age, alpha=0.2, color=\"blue\")\n",
    "plt.gcf().set_size_inches(12,8)\n",
    "\n",
    "#plt.minorticks_on()\n",
    "#plt.grid(b=True, which='major', c='gray', linestyle='-')\n",
    "#plt.grid(b=True, which='minor', c='lightgray', linestyle='--')\n",
    "plt.xlim([-2,85])\n",
    "plt.ylim([-10,550])\n",
    "plt.xlabel('Age')\n",
    "plt.ylabel('Fare')\n",
    "pass"
   ]
  },
  {
   "cell_type": "code",
   "execution_count": 228,
   "metadata": {
    "collapsed": false
   },
   "outputs": [],
   "source": [
    "# Random Forest\n",
    "\n",
    "# must encode categories as integers\n",
    "sexEncoder = preprocessing.LabelEncoder()\n",
    "train['Sex'] = sexEncoder.fit_transform(train.Sex)\n",
    "embEncoder = preprocessing.LabelEncoder()\n",
    "train['Embarked'] = embEncoder.fit_transform(train.Embarked)\n",
    "\n",
    "columns = np.array(['Sex', 'Pclass', 'Age', 'Fare', 'SibSp', 'Parch', 'Embarked'])\n",
    "\n",
    "forest = RandomForestClassifier(n_estimators=1000, max_depth=5)\n",
    "fit = forest.fit(train[columns], train.Survived)"
   ]
  },
  {
   "cell_type": "code",
   "execution_count": 229,
   "metadata": {
    "collapsed": false
   },
   "outputs": [
    {
     "data": {
      "text/plain": [
       "PassengerId    False\n",
       "Survived       False\n",
       "Pclass         False\n",
       "Name           False\n",
       "Sex            False\n",
       "Age            False\n",
       "SibSp          False\n",
       "Parch          False\n",
       "Ticket         False\n",
       "Fare           False\n",
       "Cabin           True\n",
       "Embarked       False\n",
       "dtype: bool"
      ]
     },
     "execution_count": 229,
     "metadata": {},
     "output_type": "execute_result"
    }
   ],
   "source": [
    "train.isnull().any()\n"
   ]
  },
  {
   "cell_type": "code",
   "execution_count": 230,
   "metadata": {
    "collapsed": false
   },
   "outputs": [
    {
     "name": "stdout",
     "output_type": "stream",
     "text": [
      "Embarked    0.034499\n",
      "Parch       0.036366\n",
      "SibSp       0.049240\n",
      "Age         0.108600\n",
      "Pclass      0.145593\n",
      "Fare        0.170951\n",
      "Sex         0.454751\n",
      "dtype: float64\n"
     ]
    }
   ],
   "source": [
    "# analyze variable importance\n",
    "# (inspired by http://scikit-learn.org/stable/auto_examples/ensemble/plot_gradient_boosting_regression.html)\n",
    "varImportance = pd.Series(fit.feature_importances_, index=columns).sort_values()\n",
    "print varImportance"
   ]
  },
  {
   "cell_type": "code",
   "execution_count": 231,
   "metadata": {
    "collapsed": false
   },
   "outputs": [
    {
     "data": {
      "image/png": "[encoded data removed]",
      "text/plain": [
       "<matplotlib.figure.Figure at 0x7f08ea312a50>"
      ]
     },
     "metadata": {},
     "output_type": "display_data"
    }
   ],
   "source": [
    "varImportance.plot.barh() # color='skyblue'\n",
    "ax = plt.gca()\n",
    "ax.yaxis.grid(False)\n",
    "#ax.set_axisbelow(True)\n",
    "#ax.set_axis_bgcolor('darkgrey')\n",
    "#ax.xaxis.grid(color='white', linestyle='solid', linewidth='1')\n",
    "#ax.set_frame_on(False)\n",
    "plt.tick_params(axis='y', left='off', right='off')\n",
    "plt.tick_params(axis='x', top='off', direction='out')\n",
    "plt.title('Variable Importance')\n",
    "plt.xlim(-0.015, 0.515)\n",
    "pass"
   ]
  },
  {
   "cell_type": "code",
   "execution_count": null,
   "metadata": {
    "collapsed": true
   },
   "outputs": [],
   "source": []
  }
 ],
 "metadata": {
  "kernelspec": {
   "display_name": "Python 2",
   "language": "python",
   "name": "python2"
  },
  "language_info": {
   "codemirror_mode": {
    "name": "ipython",
    "version": 2
   },
   "file_extension": ".py",
   "mimetype": "text/x-python",
   "name": "python",
   "nbconvert_exporter": "python",
   "pygments_lexer": "ipython2",
   "version": "2.7.6"
  }
 },
 "nbformat": 4,
 "nbformat_minor": 0
}
